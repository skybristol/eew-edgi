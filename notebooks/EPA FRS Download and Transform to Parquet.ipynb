{
 "cells": [
  {
   "cell_type": "markdown",
   "metadata": {
    "cell_id": "561433c59d5746fb8c254676f6de8a3c",
    "deepnote_cell_type": "markdown"
   },
   "source": [
    "This notebook pulls EPA Facilities Registry Service (FRS) data from a ZIP download, extracts the zip in memory, reads the four constituent CSV files with Pandas, and transforms to Parquet files stashed here for further processing. This puts the data into a more optimized form for further work without introducing any additional processing at this stage."
   ]
  },
  {
   "cell_type": "code",
   "execution_count": 1,
   "metadata": {
    "cell_id": "b56001ac30664218b0658b6b1c45e50d",
    "deepnote_cell_type": "code",
    "deepnote_to_be_reexecuted": false,
    "execution_millis": 42,
    "execution_start": 1678030250256,
    "source_hash": "cb63314b"
   },
   "outputs": [],
   "source": [
    "import requests\n",
    "from io import BytesIO\n",
    "from zipfile import ZipFile\n",
    "import pandas as pd"
   ]
  },
  {
   "cell_type": "code",
   "execution_count": 2,
   "metadata": {
    "cell_id": "1cbc0cf9d5cf4cd1bc2e7c3c7ea7397d",
    "deepnote_cell_type": "code",
    "deepnote_to_be_reexecuted": false,
    "execution_millis": 44106,
    "execution_start": 1677943845235,
    "source_hash": "9d2ecc0d"
   },
   "outputs": [
    {
     "name": "stdout",
     "output_type": "stream",
     "text": [
      "CPU times: user 727 ms, sys: 1.18 s, total: 1.91 s\n",
      "Wall time: 24.3 s\n"
     ]
    }
   ],
   "source": [
    "%%time\n",
    "epa_frs_url = \"https://echo.epa.gov/files/echodownloads/frs_downloads.zip\"\n",
    "\n",
    "r_epa_frs = requests.get(epa_frs_url)\n",
    "z = ZipFile(BytesIO(r_epa_frs.content))"
   ]
  },
  {
   "cell_type": "code",
   "execution_count": 3,
   "metadata": {},
   "outputs": [],
   "source": [
    "for fn in z.namelist():\n",
    "    pd.read_csv(z.open(fn), dtype=str).to_parquet(\n",
    "        f\"data/{fn.split('.')[0]}.parquet\"\n",
    "    )"
   ]
  },
  {
   "cell_type": "code",
   "execution_count": null,
   "metadata": {},
   "outputs": [],
   "source": []
  }
 ],
 "metadata": {
  "deepnote": {},
  "deepnote_execution_queue": [],
  "deepnote_notebook_id": "3e8aa90eae3149188907292b81f0d554",
  "kernelspec": {
   "display_name": ".conda-edji-knows",
   "language": "python",
   "name": "conda-env-.conda-edji-knows-py"
  },
  "language_info": {
   "codemirror_mode": {
    "name": "ipython",
    "version": 3
   },
   "file_extension": ".py",
   "mimetype": "text/x-python",
   "name": "python",
   "nbconvert_exporter": "python",
   "pygments_lexer": "ipython3",
   "version": "3.11.0"
  },
  "vscode": {
   "interpreter": {
    "hash": "7c8bda8f81cb007cd03c7345c11db01b34c222191ddd62004e304495a0b712f9"
   }
  }
 },
 "nbformat": 4,
 "nbformat_minor": 4
}
