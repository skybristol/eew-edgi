{
 "cells": [
  {
   "attachments": {},
   "cell_type": "markdown",
   "metadata": {
    "cell_id": "561433c59d5746fb8c254676f6de8a3c",
    "deepnote_cell_type": "markdown"
   },
   "source": [
    "This notebook pulls EPA Facilities Registry Service (FRS) data from a ZIP download, extracts the zip in memory, reads the four constituent CSV files with Pandas, and transforms to Parquet files stashed in the Microsoft Planetary Computer Hub account the kernel is connected to via an API token. This makes it easier to simply read the data when needed in other work being done on that machine."
   ]
  },
  {
   "cell_type": "code",
   "execution_count": 1,
   "metadata": {
    "cell_id": "b56001ac30664218b0658b6b1c45e50d",
    "deepnote_cell_type": "code",
    "deepnote_to_be_reexecuted": false,
    "execution_millis": 42,
    "execution_start": 1678030250256,
    "source_hash": "cb63314b"
   },
   "outputs": [],
   "source": [
    "import requests\n",
    "from io import BytesIO\n",
    "from zipfile import ZipFile\n",
    "import pandas as pd\n",
    "from glob import glob"
   ]
  },
  {
   "cell_type": "code",
   "execution_count": 3,
   "metadata": {},
   "outputs": [
    {
     "data": {
      "text/plain": [
       "['data/FRS_PROGRAM_LINKS.parquet',\n",
       " 'data/FRS_SIC_CODES.parquet',\n",
       " 'data/FRS_NAICS_CODES.parquet',\n",
       " 'data/FRS_FACILITIES.parquet']"
      ]
     },
     "execution_count": 3,
     "metadata": {},
     "output_type": "execute_result"
    }
   ],
   "source": [
    "glob('data/*')"
   ]
  },
  {
   "attachments": {},
   "cell_type": "markdown",
   "metadata": {},
   "source": [
    "Files are there already, but if we need to refresh we can. There is a page on the EPA ECHO site I found in the past that indicates when one of the ECHO datasets has been updated. This could be used to drive a periodic refresh process."
   ]
  },
  {
   "cell_type": "code",
   "execution_count": 4,
   "metadata": {
    "cell_id": "1cbc0cf9d5cf4cd1bc2e7c3c7ea7397d",
    "deepnote_cell_type": "code",
    "deepnote_to_be_reexecuted": false,
    "execution_millis": 44106,
    "execution_start": 1677943845235,
    "source_hash": "9d2ecc0d"
   },
   "outputs": [
    {
     "name": "stdout",
     "output_type": "stream",
     "text": [
      "CPU times: user 38 s, sys: 3.69 s, total: 41.7 s\n",
      "Wall time: 52.6 s\n"
     ]
    }
   ],
   "source": [
    "%%time\n",
    "epa_frs_url = \"https://echo.epa.gov/files/echodownloads/frs_downloads.zip\"\n",
    "\n",
    "r_epa_frs = requests.get(epa_frs_url)\n",
    "z = ZipFile(BytesIO(r_epa_frs.content))\n",
    "\n",
    "for fn in z.namelist():\n",
    "    pd.read_csv(z.open(fn), dtype=str).to_parquet(\n",
    "        f\"data/{fn.split('.')[0]}.parquet\"\n",
    "    )"
   ]
  }
 ],
 "metadata": {
  "deepnote": {},
  "deepnote_execution_queue": [],
  "deepnote_notebook_id": "3e8aa90eae3149188907292b81f0d554",
  "kernelspec": {
   "display_name": "Python 3 (ipykernel)",
   "language": "python",
   "name": "python3"
  },
  "language_info": {
   "codemirror_mode": {
    "name": "ipython",
    "version": 3
   },
   "file_extension": ".py",
   "mimetype": "text/x-python",
   "name": "python",
   "nbconvert_exporter": "python",
   "pygments_lexer": "ipython3",
   "version": "3.10.6"
  }
 },
 "nbformat": 4,
 "nbformat_minor": 4
}
