{
 "cells": [
  {
   "attachments": {},
   "cell_type": "markdown",
   "id": "39cdb5ee-551c-4c6c-99cb-84b75d1b08ea",
   "metadata": {},
   "source": [
    "I reworked this process to use the US Census data on the Microsoft Planetary Computer as my source similar to other areas. This establishes a connection for future processing of US Counties when I need their full boundary geometry. I already had counties populated from previous work with the TIGER Web HTML tables, so the notebook here just runs through and fills in some blanks that I somehow missed in that process.\n",
    "\n",
    "I'm continuing to be somewhat slowed by issues with the wikibase.cloud instance not handling mass creation of items all that well. I've tried parallel processing methods with Dask, but that just makes matters worse. This notebook ran into an issue with the SPARQL query for existing WB items for U.S. counties not returning everything that the query should return. New items created as this script ran through the first time and bombed out are not returned in the query."
   ]
  },
  {
   "cell_type": "code",
   "execution_count": 1,
   "id": "d619e251-2af2-4a84-bf7e-e992b9f09bd8",
   "metadata": {},
   "outputs": [],
   "source": [
    "import planetary_computer\n",
    "import pystac_client\n",
    "import pandas as pd\n",
    "import geopandas as gpd\n",
    "\n",
    "from wbmaker import WikibaseConnection"
   ]
  },
  {
   "cell_type": "code",
   "execution_count": 2,
   "id": "bdab5eb5-2faa-476a-95b4-4db43e3067db",
   "metadata": {},
   "outputs": [],
   "source": [
    "eew = WikibaseConnection('EEW')"
   ]
  },
  {
   "cell_type": "code",
   "execution_count": 3,
   "id": "27ac1c36-62e1-4bd5-8a27-300f6cac2b43",
   "metadata": {},
   "outputs": [],
   "source": [
    "# MPC Data Catalog\n",
    "data_catalog = pystac_client.Client.open(\n",
    "    \"https://planetarycomputer.microsoft.com/api/stac/v1\",\n",
    "    modifier=planetary_computer.sign_inplace,\n",
    ")\n",
    "\n",
    "search = data_catalog.search(collections=[\"us-census\"])\n",
    "items = {item.id: item for item in search.items()}"
   ]
  },
  {
   "cell_type": "code",
   "execution_count": 4,
   "id": "7360530a",
   "metadata": {},
   "outputs": [],
   "source": [
    "item_counties = items['2020-cb_2020_us_county_500k']\n",
    "asset_counties = item_counties.assets['data']\n",
    "gdf_counties = gpd.read_parquet(\n",
    "    asset_counties.href,\n",
    "    storage_options=asset_counties.extra_fields[\"table:storage_options\"]\n",
    ")\n",
    "gdf_counties.to_crs(epsg=4326, inplace=True)\n",
    "gdf_counties[\"coordinates\"] = gdf_counties.to_crs('+proj=cea').geometry.centroid.to_crs(gdf_counties.crs)\n"
   ]
  },
  {
   "cell_type": "code",
   "execution_count": 5,
   "id": "7d5a8f2f",
   "metadata": {},
   "outputs": [],
   "source": [
    "df_county_ref = eew.wb_ref_data('us_counties')"
   ]
  },
  {
   "cell_type": "code",
   "execution_count": 6,
   "id": "4f0208aa",
   "metadata": {},
   "outputs": [],
   "source": [
    "missing_counties = gdf_counties[~gdf_counties.GEOID.isin(df_county_ref.county_fips)].reset_index(drop=True)"
   ]
  },
  {
   "attachments": {},
   "cell_type": "markdown",
   "id": "0abf3a62",
   "metadata": {},
   "source": [
    "### Problem here\n",
    "\n",
    "This is where I've run into a challenge with how the Wikibase instance is seemingly behind in fully incorporating new records. The \"missing counties\" are actually in the WB instance; I just can't turn them up with a SPARQL query."
   ]
  },
  {
   "cell_type": "code",
   "execution_count": 7,
   "id": "ee8e0ffd",
   "metadata": {},
   "outputs": [],
   "source": [
    "# Get existing US state reference from knowledgebase\n",
    "wb_state_ref_query = \"PREFIX%20wd%3A%20%3Chttps%3A%2F%2Feew-edgi.wikibase.cloud%2Fentity%2F%3E%0APREFIX%20wdt%3A%20%3Chttps%3A%2F%2Feew-edgi.wikibase.cloud%2Fprop%2Fdirect%2F%3E%0A%0ASELECT%20%3Fstate%20%3FstateLabel%20%3FSTUSPS%0AWHERE%20%7B%0A%20%20%3Fstate%20wdt%3AP23%20%3FSTUSPS%20.%0A%20%20SERVICE%20wikibase%3Alabel%20%7B%20bd%3AserviceParam%20wikibase%3Alanguage%20%22en%22%20.%20%7D%0A%7D%0A\"\n",
    "\n",
    "wb_state_ref_query_url = f\"{eew.sparql_endpoint}?query={wb_state_ref_query}\"\n",
    "wb_state_ref_json = eew.url_sparql_query(wb_state_ref_query_url)\n",
    "\n",
    "df_state_ref = eew.df_sparql_results(wb_state_ref_json)\n",
    "df_state_ref[\"state_qid\"] = df_state_ref['state'].apply(lambda x: x.split(\"/\")[-1])"
   ]
  },
  {
   "cell_type": "code",
   "execution_count": 8,
   "id": "9e8f1523",
   "metadata": {},
   "outputs": [],
   "source": [
    "missing_counties = pd.merge(\n",
    "    left=missing_counties,\n",
    "    right=df_state_ref[[\"STUSPS\",\"state_qid\",\"stateLabel\"]],\n",
    "    how=\"left\",\n",
    "    on=\"STUSPS\"\n",
    ")"
   ]
  },
  {
   "cell_type": "code",
   "execution_count": null,
   "id": "663f151f",
   "metadata": {},
   "outputs": [],
   "source": [
    "references = eew.models.References()\n",
    "references.add(\n",
    "    eew.datatypes.Item(\n",
    "        prop_nr=eew.prop_lookup['data source'],\n",
    "        value=eew.ref_lookup['U.S. Census data as part of open public data catalog on the Microsoft Planetary Computer']\n",
    "    )\n",
    ")\n",
    "\n",
    "for index, row in missing_counties.iterrows():\n",
    "    county_label = f\"{row.NAMELSAD}, {row.stateLabel}\"\n",
    "    county_item = eew.wbi.item.new()\n",
    "    county_item.labels.set('en', county_label)\n",
    "    county_item.descriptions.set('en', f\"a county in {row.stateLabel}\")\n",
    "    county_item.aliases.set('en', [row.NAMELSAD, row.NAME])\n",
    "\n",
    "    county_item.claims.add(\n",
    "        eew.datatypes.Item(\n",
    "            prop_nr=eew.prop_lookup['instance of'],\n",
    "            value=eew.class_lookup['U.S. County (or equivalent)'],\n",
    "            references=references\n",
    "        )\n",
    "    )\n",
    "\n",
    "    county_item.claims.add(\n",
    "        eew.datatypes.Item(\n",
    "            prop_nr=eew.prop_lookup['U.S. state'],\n",
    "            value=row.state_qid,\n",
    "            references=references\n",
    "        )\n",
    "    )\n",
    "\n",
    "    county_item.claims.add(\n",
    "        eew.datatypes.ExternalID(\n",
    "            prop_nr=eew.prop_lookup['GNIS ID'],\n",
    "            value=str(row.COUNTYNS),\n",
    "            references=references\n",
    "        )\n",
    "    )\n",
    "\n",
    "    county_item.claims.add(\n",
    "        eew.datatypes.ExternalID(\n",
    "            prop_nr=eew.prop_lookup['TIGER GEOID'],\n",
    "            value=str(row.GEOID),\n",
    "            references=references\n",
    "        )\n",
    "    )\n",
    "\n",
    "    county_item.claims.add(\n",
    "        eew.datatypes.GlobeCoordinate(\n",
    "            prop_nr=eew.prop_lookup['coordinate location'],\n",
    "            latitude=row.coordinates.y,\n",
    "            longitude=row.coordinates.x,\n",
    "            references=references\n",
    "        )\n",
    "    )\n",
    "\n",
    "    try:\n",
    "        response = county_item.write(summary=\"Added county item from U.S. Census source\")\n",
    "        print(\"ADDED:\", county_label, response.id)\n",
    "    except Exception as e:\n",
    "        print(\"PROBLEM:\", county_label)"
   ]
  }
 ],
 "metadata": {
  "kernelspec": {
   "display_name": "Python [conda env:notebook] *",
   "language": "python",
   "name": "conda-env-notebook-py"
  },
  "language_info": {
   "codemirror_mode": {
    "name": "ipython",
    "version": 3
   },
   "file_extension": ".py",
   "mimetype": "text/x-python",
   "name": "python",
   "nbconvert_exporter": "python",
   "pygments_lexer": "ipython3",
   "version": "3.10.6"
  }
 },
 "nbformat": 4,
 "nbformat_minor": 5
}
