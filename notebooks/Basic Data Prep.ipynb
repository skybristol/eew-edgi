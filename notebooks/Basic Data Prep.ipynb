{
 "cells": [
  {
   "attachments": {},
   "cell_type": "markdown",
   "metadata": {},
   "source": [
    "This notebook handles some basic data download and prep for source items where we may want to process those in one circumstance and push data somewhere else for further processing."
   ]
  },
  {
   "cell_type": "code",
   "execution_count": 1,
   "metadata": {},
   "outputs": [],
   "source": [
    "import pandas as pd\n",
    "from io import BytesIO\n",
    "from zipfile import ZipFile\n",
    "import requests"
   ]
  },
  {
   "cell_type": "code",
   "execution_count": 2,
   "metadata": {},
   "outputs": [],
   "source": [
    "epa_frs_url = \"https://echo.epa.gov/files/echodownloads/frs_downloads.zip\""
   ]
  },
  {
   "cell_type": "code",
   "execution_count": 3,
   "metadata": {},
   "outputs": [
    {
     "name": "stdout",
     "output_type": "stream",
     "text": [
      "CPU times: user 1.88 s, sys: 1.16 s, total: 3.04 s\n",
      "Wall time: 29 s\n"
     ]
    }
   ],
   "source": [
    "%%time\n",
    "r_epa_frs = requests.get(epa_frs_url)\n",
    "z = ZipFile(BytesIO(r_epa_frs.content))"
   ]
  },
  {
   "cell_type": "code",
   "execution_count": 4,
   "metadata": {},
   "outputs": [],
   "source": [
    "df_epa_frs = {}\n",
    "for fn in z.namelist():\n",
    "    df_epa_frs[fn] = pd.read_csv(z.open(fn), dtype=str)"
   ]
  },
  {
   "cell_type": "code",
   "execution_count": 8,
   "metadata": {},
   "outputs": [],
   "source": [
    "df_epa_frs[\"FRS_FACILITIES.csv\"].to_parquet(\"~/Downloads/frs_downloads (1)/FRS_FACILITIES.parquet\")"
   ]
  }
 ],
 "metadata": {
  "kernelspec": {
   "display_name": "edji-knows",
   "language": "python",
   "name": "python3"
  },
  "language_info": {
   "codemirror_mode": {
    "name": "ipython",
    "version": 3
   },
   "file_extension": ".py",
   "mimetype": "text/x-python",
   "name": "python",
   "nbconvert_exporter": "python",
   "pygments_lexer": "ipython3",
   "version": "3.9.16"
  },
  "orig_nbformat": 4,
  "vscode": {
   "interpreter": {
    "hash": "7c8bda8f81cb007cd03c7345c11db01b34c222191ddd62004e304495a0b712f9"
   }
  }
 },
 "nbformat": 4,
 "nbformat_minor": 2
}
