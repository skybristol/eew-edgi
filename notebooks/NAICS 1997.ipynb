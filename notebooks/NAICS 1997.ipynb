{
 "cells": [
  {
   "attachments": {},
   "cell_type": "markdown",
   "metadata": {},
   "source": [
    "The 1997 version of the NAICS codes is the only edition not available as a download. Since there are some EPA references to codes only found in the 1997 edition, I put together a scraping process to pull these into the same structure for use. It did require the caching of the basic sector-level index table as an HTML snippet since that was structured in a way that didn't make scraping easy. The notebook reads the inventory, retrieves each sector page, parses the industry codes and descriptions, and writes to a parquet file in the data cache."
   ]
  },
  {
   "cell_type": "code",
   "execution_count": 1,
   "metadata": {},
   "outputs": [],
   "source": [
    "import pandas as pd\n",
    "from bs4 import BeautifulSoup\n",
    "import requests"
   ]
  },
  {
   "cell_type": "code",
   "execution_count": 2,
   "metadata": {},
   "outputs": [],
   "source": [
    "with open('datacache/naics_1997_inventory.html', 'r') as f:\n",
    "    soup = BeautifulSoup(f.read(), 'html.parser')\n",
    "    table = soup.find('table')\n",
    "\n",
    "naics_1997_index = []\n",
    "for index, row in enumerate(table.find_all('tr')):\n",
    "    if index > 0:\n",
    "        columns = row.find_all('td')\n",
    "        sector = {\n",
    "            \"code\": columns[0].find('a').text,\n",
    "            \"url\": columns[0].find('a')['href'],\n",
    "            \"desc\": columns[1].find('span').text\n",
    "        }\n",
    "        r_sector = requests.get(sector['url'])\n",
    "        soup_sector = BeautifulSoup(r_sector.content, 'html.parser')\n",
    "        sector[\"items\"] = [i.text for i in soup_sector.find_all('h3')]\n",
    "        naics_1997_index.append(sector)"
   ]
  },
  {
   "cell_type": "code",
   "execution_count": 3,
   "metadata": {},
   "outputs": [],
   "source": [
    "naics_1997 = []\n",
    "for sector in naics_1997_index:\n",
    "    naics_1997.append({\n",
    "        'code': sector['code'],\n",
    "        'desc': sector['desc'],\n",
    "        'reference': sector['url']\n",
    "    })\n",
    "    for ind in sector['items']:\n",
    "        industry_code = ind.split()[0]\n",
    "        industry_desc = ' '.join(ind.split()[1:])\n",
    "        if industry_desc.endswith('US'):\n",
    "            industry_desc = industry_desc.replace('US', '')\n",
    "        if industry_desc.endswith('CAN'):\n",
    "            industry_desc = industry_desc.replace('CAN', '')\n",
    "        naics_1997.append({\n",
    "            'code': industry_code,\n",
    "            'desc': industry_desc,\n",
    "            'reference': sector['url']\n",
    "        })\n",
    "\n",
    "pd.DataFrame(naics_1997).to_parquet('datacache/NAICS_1997.parquet')"
   ]
  }
 ],
 "metadata": {
  "kernelspec": {
   "display_name": "eew",
   "language": "python",
   "name": "python3"
  },
  "language_info": {
   "codemirror_mode": {
    "name": "ipython",
    "version": 3
   },
   "file_extension": ".py",
   "mimetype": "text/x-python",
   "name": "python",
   "nbconvert_exporter": "python",
   "pygments_lexer": "ipython3",
   "version": "3.11.0"
  },
  "orig_nbformat": 4
 },
 "nbformat": 4,
 "nbformat_minor": 2
}
